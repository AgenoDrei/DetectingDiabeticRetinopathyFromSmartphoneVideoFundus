{
 "cells": [
  {
   "cell_type": "markdown",
   "metadata": {
    "collapsed": true,
    "pycharm": {
     "name": "#%% md\n"
    }
   },
   "source": [
    "## Inspect quality data for Paxos adapter\n"
   ]
  },
  {
   "cell_type": "code",
   "execution_count": 1,
   "outputs": [
    {
     "traceback": [
      "\u001b[0;31m---------------------------------------------------------------------------\u001b[0m",
      "\u001b[0;31mModuleNotFoundError\u001b[0m                       Traceback (most recent call last)",
      "\u001b[0;32m<ipython-input-1-68b71fea069f>\u001b[0m in \u001b[0;36m<module>\u001b[0;34m\u001b[0m\n\u001b[1;32m      7\u001b[0m \u001b[0msys\u001b[0m\u001b[0;34m.\u001b[0m\u001b[0mpath\u001b[0m\u001b[0;34m.\u001b[0m\u001b[0mappend\u001b[0m\u001b[0;34m(\u001b[0m\u001b[0;34m'/data/simon/Code/MasterThesisDiabetischeRetionpathie/project/include'\u001b[0m\u001b[0;34m)\u001b[0m\u001b[0;34m\u001b[0m\u001b[0;34m\u001b[0m\u001b[0m\n\u001b[1;32m      8\u001b[0m \u001b[0;34m\u001b[0m\u001b[0m\n\u001b[0;32m----> 9\u001b[0;31m \u001b[0;32mimport\u001b[0m \u001b[0munglarer\u001b[0m \u001b[0;32mas\u001b[0m \u001b[0mug\u001b[0m\u001b[0;34m\u001b[0m\u001b[0;34m\u001b[0m\u001b[0m\n\u001b[0m\u001b[1;32m     10\u001b[0m \u001b[0;32mimport\u001b[0m \u001b[0mutils\u001b[0m \u001b[0;32mas\u001b[0m \u001b[0mutl\u001b[0m\u001b[0;34m\u001b[0m\u001b[0;34m\u001b[0m\u001b[0m\n",
      "\u001b[0;31mModuleNotFoundError\u001b[0m: No module named 'unglarer'"
     ],
     "ename": "ModuleNotFoundError",
     "evalue": "No module named 'unglarer'",
     "output_type": "error"
    }
   ],
   "source": [
    "import numpy as np\n",
    "import pandas as pd\n",
    "import matplotlib.pyplot as plt \n",
    "import os\n",
    "import sys\n",
    "\n",
    "sys.path.append('/data/simon/Code/MasterThesisDiabetischeRetionpathie/project/include')\n",
    "\n",
    "import unglarer as ug\n",
    "import utils as utl"
   ],
   "metadata": {
    "collapsed": false,
    "pycharm": {
     "name": "#%%\n",
     "is_executing": false
    }
   }
  },
  {
   "cell_type": "code",
   "execution_count": null,
   "outputs": [],
   "source": [
    "df: pd.DataFrame = pd.read_excel('/data/simon/ownCloud/Data/Paxos Adapter/Patient list + Analysis Sankara Smartphone DR 4.7 - f R.xlsx', sheet_name='Paxos 4.7')\n",
    "df = df.drop(['Paxos_DR', 'Paxos_Mac_Involv', 'Paxos_ONH', 'Paxos_tempinf', 'Paxos_tempsup', 'Paxos_nasalinf', 'Paxos_nasalsup', 'Paxos_seconds', 'Paxos_MW', 'Paxos_macula'], axis=1)\n",
    "df = df.rename({'Eye_ID': 'eye_id', 'Pat_ID': 'pat_id', 'Paxos_sharpness': 'sharpness', 'Paxos_fovealreflex': 'foveal_reflex',\n",
    "                'Paxos_reflex_artifacts': 'reflex_artifacts', 'Paxos_illumination': 'illumination'}, axis=1)\n",
    "df = df.loc[~(df == '-').any(axis=1)]\n",
    "df.illumination[df.illumination == 1.5] = 1.0"
   ],
   "metadata": {
    "collapsed": false,
    "pycharm": {
     "name": "#%%\n",
     "is_executing": false
    }
   }
  },
  {
   "cell_type": "code",
   "execution_count": null,
   "outputs": [],
   "source": [
    "df.describe()"
   ],
   "metadata": {
    "collapsed": false,
    "pycharm": {
     "name": "#%%\n",
     "is_executing": false
    }
   }
  },
  {
   "cell_type": "code",
   "execution_count": null,
   "outputs": [],
   "source": [
    "df.head()"
   ],
   "metadata": {
    "collapsed": false,
    "pycharm": {
     "name": "#%%\n",
     "is_executing": false
    }
   }
  },
  {
   "cell_type": "code",
   "execution_count": null,
   "outputs": [],
   "source": [
    "qa_columns = ['sharpness', 'foveal_reflex', 'reflex_artifacts', 'illumination']\n",
    "desc_df: pd.DataFrame = pd.DataFrame([pd.value_counts(df[col]) for col in qa_columns], qa_columns)\n",
    "desc_df = desc_df.fillna(0)\n",
    "desc_df.head()\n"
   ],
   "metadata": {
    "collapsed": false,
    "pycharm": {
     "name": "#%%\n",
     "is_executing": false
    }
   }
  },
  {
   "cell_type": "code",
   "execution_count": null,
   "outputs": [],
   "source": [
    "path = '/data/simon/ownCloud/Data/QA Dataset'\n",
    "paths = [f for f in os.listdir(path) if f.endswith('png')]\n",
    "print(f'Found {len(paths)} frames in folder {path}: {paths}')\n",
    "\n",
    "path_index = sorted([p.replace('.png', '') for p in paths])\n",
    "#for p in paths:\n",
    "#    image_path = os.path.join(os.getcwd(), path, p)\n",
    "qa_df: pd.DataFrame = df[df['eye_id'].isin(path_index)]\n",
    "qa_df.head()"
   ],
   "metadata": {
    "collapsed": false,
    "pycharm": {
     "name": "#%%\n",
     "is_executing": false
    }
   }
  },
  {
   "cell_type": "code",
   "execution_count": null,
   "outputs": [],
   "source": [
    "color = {'boxes': 'Green', 'whiskers': 'Gray', 'medians': 'Red', 'caps': 'DarkRed'}\n",
    "#qa_df.plot(kind='violin', color=color)\n",
    "fig = plt.figure()\n",
    "ax = fig.add_axes([0, 0, 1, 1])\n",
    "bp = ax.violinplot([qa_df[col].to_numpy(dtype=float) for col in qa_columns])\n",
    "\n",
    "plt.show()"
   ],
   "metadata": {
    "collapsed": false,
    "pycharm": {
     "name": "#%%\n",
     "is_executing": false
    }
   }
  },
  {
   "cell_type": "code",
   "execution_count": null,
   "outputs": [],
   "source": [
    "unglarer: ug.GlareRemover = ug.GlareRemover(masked_class=3, model_path='/data/simon/Code/MasterThesisDiabetischeRetionpathie/project/experiments/gmm_model_4.mod')\n",
    "for path in qa_df['eye_id']:\n",
    "    utl.load_image('/data )\n",
    "    unglarer.get_glare_percentage()"
   ],
   "metadata": {
    "collapsed": false,
    "pycharm": {
     "name": "#%%\n",
     "is_executing": false
    }
   }
  }
 ],
 "metadata": {
  "kernelspec": {
   "display_name": "Python 3",
   "language": "python",
   "name": "python3"
  },
  "language_info": {
   "codemirror_mode": {
    "name": "ipython",
    "version": 2
   },
   "file_extension": ".py",
   "mimetype": "text/x-python",
   "name": "python",
   "nbconvert_exporter": "python",
   "pygments_lexer": "ipython2",
   "version": "2.7.6"
  },
  "pycharm": {
   "stem_cell": {
    "cell_type": "raw",
    "source": [],
    "metadata": {
     "collapsed": false
    }
   }
  }
 },
 "nbformat": 4,
 "nbformat_minor": 0
}