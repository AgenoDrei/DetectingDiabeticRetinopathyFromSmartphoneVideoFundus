{
 "cells": [
  {
   "cell_type": "code",
   "execution_count": 14,
   "metadata": {
    "collapsed": true,
    "pycharm": {
     "is_executing": false
    }
   },
   "outputs": [],
   "source": [
    "import numpy as np\n",
    "import pandas as pd\n",
    "import matplotlib.pyplot as plt\n",
    "import torch\n",
    "import cv2\n",
    "from turbojpeg import TurboJPEG\n",
    "import os\n",
    "import sys\n",
    "import joblib\n",
    "sys.path.append('/home/simon/Code/MasterThesis/project/include')\n",
    "import utils as utl"
   ]
  },
  {
   "cell_type": "code",
   "execution_count": 15,
   "outputs": [
    {
     "data": {
      "text/plain": "      image  level\n0   10_left      0\n1  10_right      0\n2   13_left      0\n3  13_right      0\n4   15_left      1",
      "text/html": "<div>\n<style scoped>\n    .dataframe tbody tr th:only-of-type {\n        vertical-align: middle;\n    }\n\n    .dataframe tbody tr th {\n        vertical-align: top;\n    }\n\n    .dataframe thead th {\n        text-align: right;\n    }\n</style>\n<table border=\"1\" class=\"dataframe\">\n  <thead>\n    <tr style=\"text-align: right;\">\n      <th></th>\n      <th>image</th>\n      <th>level</th>\n    </tr>\n  </thead>\n  <tbody>\n    <tr>\n      <th>0</th>\n      <td>10_left</td>\n      <td>0</td>\n    </tr>\n    <tr>\n      <th>1</th>\n      <td>10_right</td>\n      <td>0</td>\n    </tr>\n    <tr>\n      <th>2</th>\n      <td>13_left</td>\n      <td>0</td>\n    </tr>\n    <tr>\n      <th>3</th>\n      <td>13_right</td>\n      <td>0</td>\n    </tr>\n    <tr>\n      <th>4</th>\n      <td>15_left</td>\n      <td>1</td>\n    </tr>\n  </tbody>\n</table>\n</div>"
     },
     "metadata": {},
     "output_type": "execute_result",
     "execution_count": 15
    }
   ],
   "source": [
    "DATA_BASE = '/data/simon'\n",
    "OUTPUT_PATH = 'processed_eyepacs1'\n",
    "OUTPUT_RESOLUTION = (600, 600)\n",
    "\n",
    "labels = pd.read_csv(os.path.join(DATA_BASE, 'eyepacs1.csv'))\n",
    "labels.head()"
   ],
   "metadata": {
    "collapsed": false,
    "pycharm": {
     "name": "#%%\n",
     "is_executing": false
    }
   }
  },
  {
   "cell_type": "code",
   "execution_count": 16,
   "outputs": [
    {
     "name": "stdout",
     "text": [
      "[0 1 2 4 3]\n[0 1]\n"
     ],
     "output_type": "stream"
    },
    {
     "data": {
      "text/plain": "                                image  level  severity\n0   /data/simon/eyepacs1/10_left.jpeg      0         0\n1  /data/simon/eyepacs1/10_right.jpeg      0         0\n2   /data/simon/eyepacs1/13_left.jpeg      0         0\n3  /data/simon/eyepacs1/13_right.jpeg      0         0\n4   /data/simon/eyepacs1/15_left.jpeg      1         0",
      "text/html": "<div>\n<style scoped>\n    .dataframe tbody tr th:only-of-type {\n        vertical-align: middle;\n    }\n\n    .dataframe tbody tr th {\n        vertical-align: top;\n    }\n\n    .dataframe thead th {\n        text-align: right;\n    }\n</style>\n<table border=\"1\" class=\"dataframe\">\n  <thead>\n    <tr style=\"text-align: right;\">\n      <th></th>\n      <th>image</th>\n      <th>level</th>\n      <th>severity</th>\n    </tr>\n  </thead>\n  <tbody>\n    <tr>\n      <th>0</th>\n      <td>/data/simon/eyepacs1/10_left.jpeg</td>\n      <td>0</td>\n      <td>0</td>\n    </tr>\n    <tr>\n      <th>1</th>\n      <td>/data/simon/eyepacs1/10_right.jpeg</td>\n      <td>0</td>\n      <td>0</td>\n    </tr>\n    <tr>\n      <th>2</th>\n      <td>/data/simon/eyepacs1/13_left.jpeg</td>\n      <td>0</td>\n      <td>0</td>\n    </tr>\n    <tr>\n      <th>3</th>\n      <td>/data/simon/eyepacs1/13_right.jpeg</td>\n      <td>0</td>\n      <td>0</td>\n    </tr>\n    <tr>\n      <th>4</th>\n      <td>/data/simon/eyepacs1/15_left.jpeg</td>\n      <td>1</td>\n      <td>0</td>\n    </tr>\n  </tbody>\n</table>\n</div>"
     },
     "metadata": {},
     "output_type": "execute_result",
     "execution_count": 16
    }
   ],
   "source": [
    "labels['severity'] = labels.level.map(lambda v: 0 if v <= 1 else 1)\n",
    "labels['image'] = labels.image.map(lambda v: os.path.join(DATA_BASE, 'eyepacs1/', f'{v}.jpeg'))\n",
    "\n",
    "print(labels.level.unique())\n",
    "print(labels.severity.unique())\n",
    "\n",
    "labels.head()"
   ],
   "metadata": {
    "collapsed": false,
    "pycharm": {
     "name": "#%%\n",
     "is_executing": false
    }
   }
  },
  {
   "cell_type": "code",
   "execution_count": null,
   "outputs": [
    {
     "name": "stdout",
     "text": [
      "Table size before filtering:  35126\n"
     ],
     "output_type": "stream"
    },
    {
     "name": "stderr",
     "text": [
      "[Parallel(n_jobs=-1)]: Using backend LokyBackend with 12 concurrent workers.\n",
      "[Parallel(n_jobs=-1)]: Done   2 tasks      | elapsed:    1.9s\n",
      "[Parallel(n_jobs=-1)]: Done  12 tasks      | elapsed:    2.7s\n",
      "[Parallel(n_jobs=-1)]: Done  56 tasks      | elapsed:   17.0s\n",
      "[Parallel(n_jobs=-1)]: Done 280 tasks      | elapsed:   22.1s\n",
      "[Parallel(n_jobs=-1)]: Done 568 tasks      | elapsed:   37.1s\n"
     ],
     "output_type": "stream"
    }
   ],
   "source": [
    "print('Table size before filtering: ', len(labels))\n",
    "jpeg = TurboJPEG('/opt/libjpeg-turbo/lib64/libturbojpeg.so')\n",
    "\n",
    "def crop_image(image, tolerance=20):\n",
    "    if len(image.shape) == 3:\n",
    "        flatImage = np.max(image, 2)\n",
    "    else:\n",
    "        flatImage = image\n",
    "    assert len(flatImage.shape) == 2\n",
    "    flatImage = cv2.medianBlur(flatImage.copy(), 5)\n",
    "\n",
    "    rows = np.where(np.max(flatImage, 0) > tolerance)[0]\n",
    "    if rows.size:\n",
    "        cols = np.where(np.max(flatImage, 1) > tolerance)[0]\n",
    "        image = image[cols[0]: cols[-1] + 1, rows[0]: rows[-1] + 1]\n",
    "    else:\n",
    "        image = image[:1, :1]\n",
    "\n",
    "    return image\n",
    "\n",
    "def process_image(image_path, df, idx, size, tolerance=30):    \n",
    "    img = cv2.imread(image_path)\n",
    "    \n",
    "    if img is None:\n",
    "        return \n",
    "    img_crop = crop_image(img, tolerance)\n",
    "    if img_crop.shape[0] < OUTPUT_RESOLUTION[0] or img_crop.shape[1] < OUTPUT_RESOLUTION[1]:\n",
    "        return\n",
    "    \n",
    "    img_crop = cv2.resize(img_crop, size, interpolation=cv2.INTER_LINEAR)\n",
    "    cv2.imwrite(os.path.join(DATA_BASE, OUTPUT_PATH, f'{os.path.splitext(os.path.basename(image_path))[0]}.png'), img_crop)\n",
    "    return df\n",
    "\n",
    "joblib.Parallel(n_jobs=-1, batch_size=32, verbose=10)(joblib.delayed(process_image)(row.image, labels, index, OUTPUT_RESOLUTION) for index, row in labels.iterrows())\n",
    "\n",
    "#for index, row in labels.iterrows():\n",
    "    \n",
    "print('Table size after filtering: ', len(labels))"
   ],
   "metadata": {
    "collapsed": false,
    "pycharm": {
     "name": "#%%\n",
     "is_executing": true
    }
   }
  },
  {
   "cell_type": "code",
   "execution_count": null,
   "outputs": [],
   "source": [
    "#labels.groupby('ratio')['image'].nunique()\n",
    "\n",
    "labels['image'] = labels.image.map(lambda v: os.path.join(DATA_BASE, OUTPUT_PATH, f'{os.path.splitext(os.path.basename(v))[0]}.png'))\n",
    "print(labels.image.unique())\n",
    "\n",
    "for index, row in labels.iterrows():\n",
    "    try:\n",
    "        in_file = open(row.image, 'rb')\n",
    "        in_file.close() \n",
    "        #img = cv2.imread(row.image)\n",
    "    except FileNotFoundError:\n",
    "        labels.drop(index, inplace=True)\n",
    "\n",
    "    if index % (len(labels) // 10) == (len(labels) // 10 - 1):\n",
    "        print('Progress: ', index)\n",
    "\n",
    "labels['image'] = labels.image.map(lambda v: os.path.basename(v)[:-4])\n",
    "labels.to_csv(os.path.join(DATA_BASE, 'processed_eyepacs1_v2.csv'), index=False)"
   ],
   "metadata": {
    "collapsed": false,
    "pycharm": {
     "name": "#%%\n",
     "is_executing": true
    }
   }
  },
  {
   "cell_type": "code",
   "execution_count": null,
   "outputs": [],
   "source": [
    "\n"
   ],
   "metadata": {
    "collapsed": false,
    "pycharm": {
     "name": "#%%\n",
     "is_executing": true
    }
   }
  }
 ],
 "metadata": {
  "kernelspec": {
   "name": "pycharm-eeb51a56",
   "language": "python",
   "display_name": "PyCharm (MasterThesis)"
  },
  "language_info": {
   "codemirror_mode": {
    "name": "ipython",
    "version": 2
   },
   "file_extension": ".py",
   "mimetype": "text/x-python",
   "name": "python",
   "nbconvert_exporter": "python",
   "pygments_lexer": "ipython2",
   "version": "2.7.6"
  },
  "pycharm": {
   "stem_cell": {
    "cell_type": "raw",
    "source": [],
    "metadata": {
     "collapsed": false
    }
   }
  }
 },
 "nbformat": 4,
 "nbformat_minor": 0
}