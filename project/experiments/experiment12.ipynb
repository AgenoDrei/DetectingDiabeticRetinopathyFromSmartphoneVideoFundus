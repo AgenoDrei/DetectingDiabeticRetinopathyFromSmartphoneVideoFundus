{
 "cells": [
  {
   "cell_type": "code",
   "execution_count": 2,
   "metadata": {
    "collapsed": true,
    "pycharm": {
     "is_executing": false
    }
   },
   "outputs": [],
   "source": [
    "import numpy as np\n",
    "import pandas as pd\n",
    "import matplotlib.pyplot as plt\n",
    "import torch\n",
    "import cv2\n",
    "from turbojpeg import TurboJPEG\n",
    "import os\n",
    "import sys\n",
    "import joblib\n",
    "sys.path.append('/home/simon/Code/MasterThesis/project/include')"
   ]
  },
  {
   "cell_type": "code",
   "execution_count": 15,
   "outputs": [
    {
     "data": {
      "text/plain": "      image  level\n0   10_left      0\n1  10_right      0\n2   13_left      0\n3  13_right      0\n4   15_left      1",
      "text/html": "<div>\n<style scoped>\n    .dataframe tbody tr th:only-of-type {\n        vertical-align: middle;\n    }\n\n    .dataframe tbody tr th {\n        vertical-align: top;\n    }\n\n    .dataframe thead th {\n        text-align: right;\n    }\n</style>\n<table border=\"1\" class=\"dataframe\">\n  <thead>\n    <tr style=\"text-align: right;\">\n      <th></th>\n      <th>image</th>\n      <th>level</th>\n    </tr>\n  </thead>\n  <tbody>\n    <tr>\n      <th>0</th>\n      <td>10_left</td>\n      <td>0</td>\n    </tr>\n    <tr>\n      <th>1</th>\n      <td>10_right</td>\n      <td>0</td>\n    </tr>\n    <tr>\n      <th>2</th>\n      <td>13_left</td>\n      <td>0</td>\n    </tr>\n    <tr>\n      <th>3</th>\n      <td>13_right</td>\n      <td>0</td>\n    </tr>\n    <tr>\n      <th>4</th>\n      <td>15_left</td>\n      <td>1</td>\n    </tr>\n  </tbody>\n</table>\n</div>"
     },
     "metadata": {},
     "output_type": "execute_result",
     "execution_count": 15
    }
   ],
   "source": [
    "DATA_BASE = '/data/simon'\n",
    "OUTPUT_PATH = 'processed_retina_data'\n",
    "OUTPUT_RESOLUTION = (1280, 960)\n",
    "\n",
    "labels = pd.read_csv(os.path.join(DATA_BASE, 'trainLabels.csv'))\n",
    "labels.head()"
   ],
   "metadata": {
    "collapsed": false,
    "pycharm": {
     "name": "#%%\n",
     "is_executing": false
    }
   }
  },
  {
   "cell_type": "code",
   "execution_count": 16,
   "outputs": [
    {
     "name": "stdout",
     "text": [
      "[0 1 2 4 3]\n[0 1]\n"
     ],
     "output_type": "stream"
    },
    {
     "data": {
      "text/plain": "                                   image  level  severity\n0   /data/simon/retina_data/10_left.jpeg      0         0\n1  /data/simon/retina_data/10_right.jpeg      0         0\n2   /data/simon/retina_data/13_left.jpeg      0         0\n3  /data/simon/retina_data/13_right.jpeg      0         0\n4   /data/simon/retina_data/15_left.jpeg      1         0",
      "text/html": "<div>\n<style scoped>\n    .dataframe tbody tr th:only-of-type {\n        vertical-align: middle;\n    }\n\n    .dataframe tbody tr th {\n        vertical-align: top;\n    }\n\n    .dataframe thead th {\n        text-align: right;\n    }\n</style>\n<table border=\"1\" class=\"dataframe\">\n  <thead>\n    <tr style=\"text-align: right;\">\n      <th></th>\n      <th>image</th>\n      <th>level</th>\n      <th>severity</th>\n    </tr>\n  </thead>\n  <tbody>\n    <tr>\n      <th>0</th>\n      <td>/data/simon/retina_data/10_left.jpeg</td>\n      <td>0</td>\n      <td>0</td>\n    </tr>\n    <tr>\n      <th>1</th>\n      <td>/data/simon/retina_data/10_right.jpeg</td>\n      <td>0</td>\n      <td>0</td>\n    </tr>\n    <tr>\n      <th>2</th>\n      <td>/data/simon/retina_data/13_left.jpeg</td>\n      <td>0</td>\n      <td>0</td>\n    </tr>\n    <tr>\n      <th>3</th>\n      <td>/data/simon/retina_data/13_right.jpeg</td>\n      <td>0</td>\n      <td>0</td>\n    </tr>\n    <tr>\n      <th>4</th>\n      <td>/data/simon/retina_data/15_left.jpeg</td>\n      <td>1</td>\n      <td>0</td>\n    </tr>\n  </tbody>\n</table>\n</div>"
     },
     "metadata": {},
     "output_type": "execute_result",
     "execution_count": 16
    }
   ],
   "source": [
    "labels['severity'] = labels.level.map(lambda v: 0 if v <= 1 else 1)\n",
    "labels['image'] = labels.image.map(lambda v: os.path.join(DATA_BASE, 'retina_data/', f'{v}.jpeg'))\n",
    "\n",
    "print(labels.level.unique())\n",
    "print(labels.severity.unique())\n",
    "\n",
    "labels.head()"
   ],
   "metadata": {
    "collapsed": false,
    "pycharm": {
     "name": "#%%\n",
     "is_executing": false
    }
   }
  },
  {
   "cell_type": "code",
   "execution_count": 12,
   "outputs": [
    {
     "name": "stdout",
     "text": [
      "Table size before filtering:  35126\n",
      "Progress:  350\n",
      "Progress:  701\n",
      "Progress:  1052\n",
      "Progress:  1403\n",
      "Progress:  1754\n",
      "Progress:  2105\n",
      "Progress:  2456\n",
      "Progress:  2807\n",
      "Progress:  3158\n",
      "Progress:  3509\n",
      "Progress:  3860\n",
      "Progress:  4211\n",
      "Progress:  4562\n",
      "Progress:  4913\n",
      "Progress:  5264\n",
      "Progress:  5615\n",
      "Progress:  5966\n",
      "Progress:  6317\n",
      "Progress:  6668\n",
      "Progress:  7019\n",
      "Progress:  7370\n",
      "Progress:  7721\n",
      "Progress:  8072\n",
      "Progress:  8423\n",
      "Progress:  8774\n",
      "Progress:  9125\n",
      "Progress:  9476\n",
      "Progress:  9827\n",
      "Progress:  10178\n",
      "Progress:  10529\n",
      "Progress:  10880\n",
      "Progress:  11231\n",
      "Progress:  11582\n",
      "Progress:  11933\n",
      "Progress:  12284\n",
      "Progress:  12635\n",
      "Progress:  12986\n",
      "Progress:  13337\n",
      "Progress:  13688\n",
      "Progress:  14039\n",
      "Progress:  14390\n",
      "Progress:  14741\n",
      "Progress:  15092\n",
      "Progress:  15443\n",
      "Progress:  15794\n",
      "Progress:  16145\n",
      "Progress:  16496\n",
      "Progress:  16847\n",
      "Progress:  17198\n",
      "Progress:  17549\n",
      "Progress:  17900\n",
      "Progress:  18251\n",
      "Progress:  18602\n",
      "Progress:  18953\n",
      "Progress:  19304\n",
      "Progress:  19655\n",
      "Progress:  20006\n",
      "Progress:  20357\n",
      "Progress:  20708\n",
      "Progress:  21059\n",
      "Progress:  21410\n",
      "Progress:  21761\n",
      "Progress:  22112\n",
      "Progress:  22463\n",
      "Progress:  22814\n",
      "Progress:  23165\n",
      "Progress:  23516\n",
      "Progress:  23867\n",
      "Progress:  24218\n",
      "Progress:  24569\n",
      "Progress:  24920\n",
      "Progress:  25271\n",
      "Progress:  25622\n",
      "Progress:  25973\n",
      "Progress:  26324\n",
      "Progress:  26675\n",
      "Progress:  27026\n",
      "Progress:  27377\n",
      "Progress:  27728\n",
      "Progress:  28079\n",
      "Progress:  28430\n",
      "Progress:  28781\n",
      "Progress:  29132\n",
      "Progress:  29483\n",
      "Progress:  29834\n",
      "Progress:  30185\n",
      "Progress:  30536\n",
      "Progress:  30887\n",
      "Progress:  31238\n",
      "Progress:  31589\n",
      "Progress:  31940\n",
      "Progress:  32291\n",
      "Progress:  32642\n",
      "Progress:  32993\n",
      "Progress:  33344\n",
      "Progress:  33695\n",
      "Progress:  34046\n",
      "Progress:  34397\n",
      "Progress:  34748\n",
      "Progress:  35099\n",
      "Table size after filtering:  35105\n"
     ],
     "output_type": "stream"
    }
   ],
   "source": [
    "print('Table size before filtering: ', len(labels))\n",
    "jpeg = TurboJPEG('/opt/libjpeg-turbo/lib64/libturbojpeg.so')\n",
    "\n",
    "for index, row in labels.iterrows():\n",
    "    in_file = open(row.image, 'rb')\n",
    "    img = jpeg.decode(in_file.read())\n",
    "    in_file.close() \n",
    "    #img = cv2.imread(row.image)\n",
    "    if img is None:\n",
    "        labels.drop(index, inplace=True)\n",
    "        continue\n",
    "    h, w, c = img.shape\n",
    "    if h < 600 or w < 800:\n",
    "        labels.drop(index, inplace=True)\n",
    "        continue\n",
    "    labels.at[index, 'height'] = h\n",
    "    labels.at[index, 'width'] = w\n",
    "    labels.at[index, 'ratio'] = w / h\n",
    "    \n",
    "    img = cv2.resize(img, OUTPUT_RESOLUTION)\n",
    "    out_file = open(os.path.join(DATA_BASE, OUTPUT_PATH, os.path.basename(row.image)), 'wb')\n",
    "    out_file.write(jpeg.encode(img))\n",
    "    out_file.close()\n",
    "\n",
    "    if index % (len(labels) // 100) == (len(labels) // 100 - 1):\n",
    "        print('Progress: ', index)\n",
    "    \n",
    "print('Table size after filtering: ', len(labels))\n",
    "\n"
   ],
   "metadata": {
    "collapsed": false,
    "pycharm": {
     "name": "#%%\n",
     "is_executing": false
    }
   }
  },
  {
   "cell_type": "code",
   "execution_count": 63,
   "outputs": [
    {
     "traceback": [
      "\u001b[0;31m---------------------------------------------------------------------------\u001b[0m",
      "\u001b[0;31mKeyError\u001b[0m                                  Traceback (most recent call last)",
      "\u001b[0;32m<ipython-input-63-5f219f867439>\u001b[0m in \u001b[0;36m<module>\u001b[0;34m\u001b[0m\n\u001b[0;32m----> 1\u001b[0;31m \u001b[0mlabels\u001b[0m\u001b[0;34m.\u001b[0m\u001b[0mgroupby\u001b[0m\u001b[0;34m(\u001b[0m\u001b[0;34m'ratio'\u001b[0m\u001b[0;34m)\u001b[0m\u001b[0;34m[\u001b[0m\u001b[0;34m'image'\u001b[0m\u001b[0;34m]\u001b[0m\u001b[0;34m.\u001b[0m\u001b[0mnunique\u001b[0m\u001b[0;34m(\u001b[0m\u001b[0;34m)\u001b[0m\u001b[0;34m\u001b[0m\u001b[0;34m\u001b[0m\u001b[0m\n\u001b[0m\u001b[1;32m      2\u001b[0m \u001b[0;34m\u001b[0m\u001b[0m\n\u001b[1;32m      3\u001b[0m \u001b[0;34m\u001b[0m\u001b[0m\n",
      "\u001b[0;32m~/.local/lib/python3.6/site-packages/pandas/core/generic.py\u001b[0m in \u001b[0;36mgroupby\u001b[0;34m(self, by, axis, level, as_index, sort, group_keys, squeeze, observed, **kwargs)\u001b[0m\n\u001b[1;32m   7892\u001b[0m             \u001b[0msqueeze\u001b[0m\u001b[0;34m=\u001b[0m\u001b[0msqueeze\u001b[0m\u001b[0;34m,\u001b[0m\u001b[0;34m\u001b[0m\u001b[0;34m\u001b[0m\u001b[0m\n\u001b[1;32m   7893\u001b[0m             \u001b[0mobserved\u001b[0m\u001b[0;34m=\u001b[0m\u001b[0mobserved\u001b[0m\u001b[0;34m,\u001b[0m\u001b[0;34m\u001b[0m\u001b[0;34m\u001b[0m\u001b[0m\n\u001b[0;32m-> 7894\u001b[0;31m             \u001b[0;34m**\u001b[0m\u001b[0mkwargs\u001b[0m\u001b[0;34m\u001b[0m\u001b[0;34m\u001b[0m\u001b[0m\n\u001b[0m\u001b[1;32m   7895\u001b[0m         )\n\u001b[1;32m   7896\u001b[0m \u001b[0;34m\u001b[0m\u001b[0m\n",
      "\u001b[0;32m~/.local/lib/python3.6/site-packages/pandas/core/groupby/groupby.py\u001b[0m in \u001b[0;36mgroupby\u001b[0;34m(obj, by, **kwds)\u001b[0m\n\u001b[1;32m   2520\u001b[0m         \u001b[0;32mraise\u001b[0m \u001b[0mTypeError\u001b[0m\u001b[0;34m(\u001b[0m\u001b[0;34m\"invalid type: {}\"\u001b[0m\u001b[0;34m.\u001b[0m\u001b[0mformat\u001b[0m\u001b[0;34m(\u001b[0m\u001b[0mobj\u001b[0m\u001b[0;34m)\u001b[0m\u001b[0;34m)\u001b[0m\u001b[0;34m\u001b[0m\u001b[0;34m\u001b[0m\u001b[0m\n\u001b[1;32m   2521\u001b[0m \u001b[0;34m\u001b[0m\u001b[0m\n\u001b[0;32m-> 2522\u001b[0;31m     \u001b[0;32mreturn\u001b[0m \u001b[0mklass\u001b[0m\u001b[0;34m(\u001b[0m\u001b[0mobj\u001b[0m\u001b[0;34m,\u001b[0m \u001b[0mby\u001b[0m\u001b[0;34m,\u001b[0m \u001b[0;34m**\u001b[0m\u001b[0mkwds\u001b[0m\u001b[0;34m)\u001b[0m\u001b[0;34m\u001b[0m\u001b[0;34m\u001b[0m\u001b[0m\n\u001b[0m",
      "\u001b[0;32m~/.local/lib/python3.6/site-packages/pandas/core/groupby/groupby.py\u001b[0m in \u001b[0;36m__init__\u001b[0;34m(self, obj, keys, axis, level, grouper, exclusions, selection, as_index, sort, group_keys, squeeze, observed, **kwargs)\u001b[0m\n\u001b[1;32m    389\u001b[0m                 \u001b[0msort\u001b[0m\u001b[0;34m=\u001b[0m\u001b[0msort\u001b[0m\u001b[0;34m,\u001b[0m\u001b[0;34m\u001b[0m\u001b[0;34m\u001b[0m\u001b[0m\n\u001b[1;32m    390\u001b[0m                 \u001b[0mobserved\u001b[0m\u001b[0;34m=\u001b[0m\u001b[0mobserved\u001b[0m\u001b[0;34m,\u001b[0m\u001b[0;34m\u001b[0m\u001b[0;34m\u001b[0m\u001b[0m\n\u001b[0;32m--> 391\u001b[0;31m                 \u001b[0mmutated\u001b[0m\u001b[0;34m=\u001b[0m\u001b[0mself\u001b[0m\u001b[0;34m.\u001b[0m\u001b[0mmutated\u001b[0m\u001b[0;34m,\u001b[0m\u001b[0;34m\u001b[0m\u001b[0;34m\u001b[0m\u001b[0m\n\u001b[0m\u001b[1;32m    392\u001b[0m             )\n\u001b[1;32m    393\u001b[0m \u001b[0;34m\u001b[0m\u001b[0m\n",
      "\u001b[0;32m~/.local/lib/python3.6/site-packages/pandas/core/groupby/grouper.py\u001b[0m in \u001b[0;36m_get_grouper\u001b[0;34m(obj, key, axis, level, sort, observed, mutated, validate)\u001b[0m\n\u001b[1;32m    619\u001b[0m                 \u001b[0min_axis\u001b[0m\u001b[0;34m,\u001b[0m \u001b[0mname\u001b[0m\u001b[0;34m,\u001b[0m \u001b[0mlevel\u001b[0m\u001b[0;34m,\u001b[0m \u001b[0mgpr\u001b[0m \u001b[0;34m=\u001b[0m \u001b[0;32mFalse\u001b[0m\u001b[0;34m,\u001b[0m \u001b[0;32mNone\u001b[0m\u001b[0;34m,\u001b[0m \u001b[0mgpr\u001b[0m\u001b[0;34m,\u001b[0m \u001b[0;32mNone\u001b[0m\u001b[0;34m\u001b[0m\u001b[0;34m\u001b[0m\u001b[0m\n\u001b[1;32m    620\u001b[0m             \u001b[0;32melse\u001b[0m\u001b[0;34m:\u001b[0m\u001b[0;34m\u001b[0m\u001b[0;34m\u001b[0m\u001b[0m\n\u001b[0;32m--> 621\u001b[0;31m                 \u001b[0;32mraise\u001b[0m \u001b[0mKeyError\u001b[0m\u001b[0;34m(\u001b[0m\u001b[0mgpr\u001b[0m\u001b[0;34m)\u001b[0m\u001b[0;34m\u001b[0m\u001b[0;34m\u001b[0m\u001b[0m\n\u001b[0m\u001b[1;32m    622\u001b[0m         \u001b[0;32melif\u001b[0m \u001b[0misinstance\u001b[0m\u001b[0;34m(\u001b[0m\u001b[0mgpr\u001b[0m\u001b[0;34m,\u001b[0m \u001b[0mGrouper\u001b[0m\u001b[0;34m)\u001b[0m \u001b[0;32mand\u001b[0m \u001b[0mgpr\u001b[0m\u001b[0;34m.\u001b[0m\u001b[0mkey\u001b[0m \u001b[0;32mis\u001b[0m \u001b[0;32mnot\u001b[0m \u001b[0;32mNone\u001b[0m\u001b[0;34m:\u001b[0m\u001b[0;34m\u001b[0m\u001b[0;34m\u001b[0m\u001b[0m\n\u001b[1;32m    623\u001b[0m             \u001b[0;31m# Add key to exclusions\u001b[0m\u001b[0;34m\u001b[0m\u001b[0;34m\u001b[0m\u001b[0;34m\u001b[0m\u001b[0m\n",
      "\u001b[0;31mKeyError\u001b[0m: 'ratio'"
     ],
     "ename": "KeyError",
     "evalue": "'ratio'",
     "output_type": "error"
    }
   ],
   "source": [
    "labels.groupby('ratio')['image'].nunique()\n"
   ],
   "metadata": {
    "collapsed": false,
    "pycharm": {
     "name": "#%%\n",
     "is_executing": false
    }
   }
  },
  {
   "cell_type": "code",
   "execution_count": 45,
   "outputs": [
    {
     "name": "stdout",
     "text": [
      "/data/simon/processed_retina_data/10_left.jpeg\n",
      "Progress:  350\n",
      "Progress:  701\n",
      "Progress:  1052\n",
      "Progress:  1403\n",
      "Progress:  1754\n",
      "Progress:  2105\n",
      "Progress:  2456\n",
      "Progress:  2807\n",
      "Progress:  3158\n",
      "Progress:  3509\n",
      "Progress:  3860\n",
      "Progress:  4211\n",
      "Progress:  4562\n",
      "Progress:  4913\n",
      "Progress:  5264\n",
      "Progress:  5615\n",
      "Progress:  5966\n",
      "Progress:  6317\n",
      "Progress:  6668\n",
      "Progress:  7019\n",
      "Progress:  7370\n",
      "Progress:  7721\n",
      "Progress:  8072\n",
      "Progress:  8423\n",
      "Progress:  8774\n",
      "Progress:  9125\n",
      "Progress:  9476\n",
      "Progress:  9827\n",
      "Progress:  10178\n",
      "Progress:  10529\n",
      "Progress:  10880\n",
      "Progress:  11231\n",
      "Progress:  11582\n",
      "Progress:  11933\n",
      "Progress:  12284\n",
      "Progress:  12635\n",
      "Progress:  12986\n",
      "Progress:  13337\n",
      "Progress:  13688\n",
      "Progress:  14039\n",
      "Progress:  14390\n",
      "Progress:  14741\n",
      "Progress:  15092\n",
      "Progress:  15443\n",
      "Progress:  15794\n",
      "Progress:  16145\n",
      "Progress:  16496\n",
      "Progress:  16847\n",
      "Progress:  17198\n",
      "Progress:  17549\n",
      "Progress:  17900\n",
      "Progress:  18251\n",
      "Progress:  18602\n",
      "Progress:  18953\n",
      "Progress:  19304\n",
      "Progress:  19655\n",
      "Progress:  20006\n",
      "Progress:  20357\n",
      "Progress:  20708\n",
      "Progress:  21059\n",
      "Progress:  21410\n",
      "Progress:  21761\n",
      "Progress:  22112\n",
      "Progress:  22463\n",
      "Progress:  22814\n",
      "Progress:  23165\n",
      "Progress:  23516\n",
      "Progress:  23867\n",
      "Progress:  24218\n",
      "Progress:  24569\n",
      "Progress:  24920\n",
      "Progress:  25271\n",
      "Progress:  25622\n",
      "Progress:  25973\n",
      "Progress:  26324\n",
      "Progress:  26675\n",
      "Progress:  27026\n",
      "Progress:  27377\n",
      "Progress:  27728\n",
      "Progress:  28079\n",
      "Progress:  28430\n",
      "Progress:  28781\n",
      "Progress:  29132\n",
      "Progress:  29483\n",
      "Progress:  29834\n",
      "Progress:  30185\n",
      "Progress:  30536\n",
      "Progress:  30887\n",
      "Progress:  31238\n",
      "Progress:  31589\n",
      "Progress:  31940\n",
      "Progress:  32291\n",
      "Progress:  32642\n",
      "Progress:  32993\n",
      "Progress:  33344\n",
      "Progress:  33695\n",
      "Progress:  34046\n",
      "Progress:  34397\n",
      "Progress:  34748\n",
      "Progress:  35099\n"
     ],
     "output_type": "stream"
    }
   ],
   "source": [
    "labels['image'] = labels.image.map(lambda v: os.path.join(DATA_BASE, OUTPUT_PATH, os.path.basename(v)))\n",
    "\n",
    "for index, row in labels.iterrows():\n",
    "    try:\n",
    "        in_file = open(row.image, 'rb')\n",
    "        img = jpeg.decode(in_file.read())\n",
    "        in_file.close() \n",
    "        #img = cv2.imread(row.image)\n",
    "        \n",
    "        cv2.imwrite(os.path.join(DATA_BASE, OUTPUT_PATH, f'{os.path.splitext(os.path.basename(row.image))[0]}.png'), img)\n",
    "    except FileNotFoundError:\n",
    "        labels.drop(index, inplace=True)\n",
    "\n",
    "    if index % (len(labels) // 20) == (len(labels) // 20 - 1):\n",
    "        print('Progress: ', index)"
   ],
   "metadata": {
    "collapsed": false,
    "pycharm": {
     "name": "#%%\n",
     "is_executing": false
    }
   }
  },
  {
   "cell_type": "code",
   "execution_count": 17,
   "outputs": [
    {
     "name": "stdout",
     "text": [
      "['/data/simon/processed_retina_data/10_left.jpeg'\n '/data/simon/processed_retina_data/10_right.jpeg'\n '/data/simon/processed_retina_data/13_left.jpeg' ...\n '/data/simon/processed_retina_data/44348_right.jpeg'\n '/data/simon/processed_retina_data/44349_left.jpeg'\n '/data/simon/processed_retina_data/44349_right.jpeg']\n",
      "Progress:  1755\n",
      "Progress:  3511\n",
      "Progress:  5267\n",
      "Progress:  7023\n",
      "Progress:  8774\n",
      "Progress:  10529\n",
      "Progress:  12284\n",
      "Progress:  14039\n",
      "Progress:  15794\n",
      "Progress:  17549\n",
      "Progress:  19304\n",
      "Progress:  21059\n",
      "Progress:  22814\n",
      "Progress:  24569\n",
      "Progress:  26324\n",
      "Progress:  28079\n",
      "Progress:  29834\n",
      "Progress:  31589\n",
      "Progress:  33344\n",
      "Progress:  35099\n['/data/simon/processed_retina_data/10_left.jpeg'\n '/data/simon/processed_retina_data/10_right.jpeg'\n '/data/simon/processed_retina_data/13_left.jpeg' ...\n '/data/simon/processed_retina_data/44348_right.jpeg'\n '/data/simon/processed_retina_data/44349_left.jpeg'\n '/data/simon/processed_retina_data/44349_right.jpeg']\n['10_left' '10_right' '13_left' ... '44348_right' '44349_left'\n '44349_right']\n"
     ],
     "output_type": "stream"
    }
   ],
   "source": [
    "labels['image'] = labels.image.map(lambda v: os.path.join(DATA_BASE, OUTPUT_PATH, os.path.basename(v)))\n",
    "print(labels.image.unique())\n",
    "for index, row in labels.iterrows():\n",
    "    try:\n",
    "        in_file = open(row.image, 'rb')\n",
    "        in_file.close() \n",
    "        #img = cv2.imread(row.image)\n",
    "    except FileNotFoundError:\n",
    "        labels.drop(index, inplace=True)\n",
    "\n",
    "    if index % (len(labels) // 20) == (len(labels) // 20 - 1):\n",
    "        print('Progress: ', index)\n",
    "\n",
    "print(labels.image.unique())\n",
    "labels['image'] = labels.image.map(lambda v: os.path.basename(v)[:-5])\n",
    "print(labels.image.unique())\n",
    "labels.to_csv(os.path.join(DATA_BASE, 'processed_trainLabels.csv'), index=False)"
   ],
   "metadata": {
    "collapsed": false,
    "pycharm": {
     "name": "#%%\n",
     "is_executing": false
    }
   }
  },
  {
   "cell_type": "code",
   "execution_count": null,
   "outputs": [],
   "source": [
    "\n"
   ],
   "metadata": {
    "collapsed": false,
    "pycharm": {
     "name": "#%%\n"
    }
   }
  }
 ],
 "metadata": {
  "kernelspec": {
   "name": "pycharm-eeb51a56",
   "language": "python",
   "display_name": "PyCharm (MasterThesis)"
  },
  "language_info": {
   "codemirror_mode": {
    "name": "ipython",
    "version": 2
   },
   "file_extension": ".py",
   "mimetype": "text/x-python",
   "name": "python",
   "nbconvert_exporter": "python",
   "pygments_lexer": "ipython2",
   "version": "2.7.6"
  },
  "pycharm": {
   "stem_cell": {
    "cell_type": "raw",
    "source": [],
    "metadata": {
     "collapsed": false
    }
   }
  }
 },
 "nbformat": 4,
 "nbformat_minor": 0
}