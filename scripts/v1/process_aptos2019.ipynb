{
 "cells": [
  {
   "cell_type": "code",
   "execution_count": 9,
   "metadata": {
    "collapsed": true,
    "pycharm": {
     "is_executing": false
    }
   },
   "outputs": [],
   "source": [
    "import numpy as np\n",
    "import pandas as pd\n",
    "import matplotlib.pyplot as plt\n",
    "import torch\n",
    "import cv2\n",
    "from turbojpeg import TurboJPEG\n",
    "import os\n",
    "import sys\n",
    "import joblib\n",
    "sys.path.append('/home/simon/Code/MasterThesis/project/include')\n",
    "import utils as utl"
   ]
  },
  {
   "cell_type": "code",
   "execution_count": 10,
   "outputs": [
    {
     "data": {
      "text/plain": "        id_code  diagnosis\n0  000c1434d8d7          2\n1  001639a390f0          4\n2  0024cdab0c1e          1\n3  002c21358ce6          0\n4  005b95c28852          0",
      "text/html": "<div>\n<style scoped>\n    .dataframe tbody tr th:only-of-type {\n        vertical-align: middle;\n    }\n\n    .dataframe tbody tr th {\n        vertical-align: top;\n    }\n\n    .dataframe thead th {\n        text-align: right;\n    }\n</style>\n<table border=\"1\" class=\"dataframe\">\n  <thead>\n    <tr style=\"text-align: right;\">\n      <th></th>\n      <th>id_code</th>\n      <th>diagnosis</th>\n    </tr>\n  </thead>\n  <tbody>\n    <tr>\n      <th>0</th>\n      <td>000c1434d8d7</td>\n      <td>2</td>\n    </tr>\n    <tr>\n      <th>1</th>\n      <td>001639a390f0</td>\n      <td>4</td>\n    </tr>\n    <tr>\n      <th>2</th>\n      <td>0024cdab0c1e</td>\n      <td>1</td>\n    </tr>\n    <tr>\n      <th>3</th>\n      <td>002c21358ce6</td>\n      <td>0</td>\n    </tr>\n    <tr>\n      <th>4</th>\n      <td>005b95c28852</td>\n      <td>0</td>\n    </tr>\n  </tbody>\n</table>\n</div>"
     },
     "metadata": {},
     "output_type": "execute_result",
     "execution_count": 10
    }
   ],
   "source": [
    "DATA_BASE = '/data/simon/Datasets/'\n",
    "OUTPUT_PATH = 'processed_aptos2019'\n",
    "OUTPUT_RESOLUTION = (700, 700)\n",
    "\n",
    "labels = pd.read_csv(os.path.join(DATA_BASE, 'aptos2019.csv'))\n",
    "labels.head()"
   ],
   "metadata": {
    "collapsed": false,
    "pycharm": {
     "name": "#%%\n",
     "is_executing": false
    }
   }
  },
  {
   "cell_type": "code",
   "execution_count": 14,
   "outputs": [
    {
     "name": "stdout",
     "text": [
      "[2 4 1 0 3]\n[1 0]\n0    1889\n1    1442\nName: severity, dtype: int64\n"
     ],
     "output_type": "stream"
    },
    {
     "data": {
      "text/plain": "        id_code  diagnosis  severity  \\\n0  000c1434d8d7          2         1   \n1  001639a390f0          4         1   \n2  0024cdab0c1e          1         0   \n3  002c21358ce6          0         0   \n4  005b95c28852          0         0   \n\n                                             image  \n0  /data/simon/Datasets/aptos2019/000c1434d8d7.png  \n1  /data/simon/Datasets/aptos2019/001639a390f0.png  \n2  /data/simon/Datasets/aptos2019/0024cdab0c1e.png  \n3  /data/simon/Datasets/aptos2019/002c21358ce6.png  \n4  /data/simon/Datasets/aptos2019/005b95c28852.png  ",
      "text/html": "<div>\n<style scoped>\n    .dataframe tbody tr th:only-of-type {\n        vertical-align: middle;\n    }\n\n    .dataframe tbody tr th {\n        vertical-align: top;\n    }\n\n    .dataframe thead th {\n        text-align: right;\n    }\n</style>\n<table border=\"1\" class=\"dataframe\">\n  <thead>\n    <tr style=\"text-align: right;\">\n      <th></th>\n      <th>id_code</th>\n      <th>diagnosis</th>\n      <th>severity</th>\n      <th>image</th>\n    </tr>\n  </thead>\n  <tbody>\n    <tr>\n      <th>0</th>\n      <td>000c1434d8d7</td>\n      <td>2</td>\n      <td>1</td>\n      <td>/data/simon/Datasets/aptos2019/000c1434d8d7.png</td>\n    </tr>\n    <tr>\n      <th>1</th>\n      <td>001639a390f0</td>\n      <td>4</td>\n      <td>1</td>\n      <td>/data/simon/Datasets/aptos2019/001639a390f0.png</td>\n    </tr>\n    <tr>\n      <th>2</th>\n      <td>0024cdab0c1e</td>\n      <td>1</td>\n      <td>0</td>\n      <td>/data/simon/Datasets/aptos2019/0024cdab0c1e.png</td>\n    </tr>\n    <tr>\n      <th>3</th>\n      <td>002c21358ce6</td>\n      <td>0</td>\n      <td>0</td>\n      <td>/data/simon/Datasets/aptos2019/002c21358ce6.png</td>\n    </tr>\n    <tr>\n      <th>4</th>\n      <td>005b95c28852</td>\n      <td>0</td>\n      <td>0</td>\n      <td>/data/simon/Datasets/aptos2019/005b95c28852.png</td>\n    </tr>\n  </tbody>\n</table>\n</div>"
     },
     "metadata": {},
     "output_type": "execute_result",
     "execution_count": 14
    }
   ],
   "source": [
    "labels['severity'] = labels.diagnosis.map(lambda v: 0 if v <= 1 else 1)\n",
    "labels['image'] = labels.id_code.map(lambda v: os.path.join(DATA_BASE, 'aptos2019/', f'{v}.png'))\n",
    "\n",
    "print(labels.diagnosis.unique())\n",
    "print(labels.severity.unique())\n",
    "print(labels.severity.value_counts())\n",
    "\n",
    "labels.head()"
   ],
   "metadata": {
    "collapsed": false,
    "pycharm": {
     "name": "#%%\n",
     "is_executing": false
    }
   }
  },
  {
   "cell_type": "code",
   "execution_count": 12,
   "outputs": [
    {
     "name": "stdout",
     "text": [
      "Table size before filtering:  3662\n",
      "Table size after filtering:  3662\n"
     ],
     "output_type": "stream"
    },
    {
     "name": "stderr",
     "text": [
      "[Parallel(n_jobs=-1)]: Using backend LokyBackend with 12 concurrent workers.\n",
      "[Parallel(n_jobs=-1)]: Done   2 tasks      | elapsed:    1.6s\n[Parallel(n_jobs=-1)]: Done  12 tasks      | elapsed:    1.8s\n",
      "[Parallel(n_jobs=-1)]: Done  56 tasks      | elapsed:    8.7s\n",
      "[Parallel(n_jobs=-1)]: Done 280 tasks      | elapsed:   11.2s\n",
      "[Parallel(n_jobs=-1)]: Done 568 tasks      | elapsed:   18.7s\n",
      "[Parallel(n_jobs=-1)]: Done 856 tasks      | elapsed:   24.1s\n",
      "[Parallel(n_jobs=-1)]: Done 1208 tasks      | elapsed:   32.2s\n",
      "[Parallel(n_jobs=-1)]: Done 1560 tasks      | elapsed:   38.2s\n",
      "[Parallel(n_jobs=-1)]: Done 1976 tasks      | elapsed:   47.5s\n",
      "[Parallel(n_jobs=-1)]: Done 2392 tasks      | elapsed:   55.7s\n",
      "[Parallel(n_jobs=-1)]: Done 2872 tasks      | elapsed:  1.1min\n",
      "[Parallel(n_jobs=-1)]: Done 3135 tasks      | elapsed:  1.2min\n",
      "[Parallel(n_jobs=-1)]: Done 3245 tasks      | elapsed:  1.2min\n",
      "[Parallel(n_jobs=-1)]: Done 3324 tasks      | elapsed:  1.2min\n",
      "[Parallel(n_jobs=-1)]: Done 3374 tasks      | elapsed:  1.2min\n",
      "[Parallel(n_jobs=-1)]: Done 3424 tasks      | elapsed:  1.3min\n",
      "[Parallel(n_jobs=-1)]: Done 3476 tasks      | elapsed:  1.3min\n",
      "[Parallel(n_jobs=-1)]: Done 3559 tasks      | elapsed:  1.3min\n",
      "[Parallel(n_jobs=-1)]: Done 3613 tasks      | elapsed:  1.3min\n",
      "[Parallel(n_jobs=-1)]: Done 3636 tasks      | elapsed:  1.3min\n",
      "[Parallel(n_jobs=-1)]: Done 3662 out of 3662 | elapsed:  1.3min finished\n"
     ],
     "output_type": "stream"
    }
   ],
   "source": [
    "print('Table size before filtering: ', len(labels))\n",
    "\n",
    "def crop_image(image, tolerance=20):\n",
    "    if len(image.shape) == 3:\n",
    "        flatImage = np.max(image, 2)\n",
    "    else:\n",
    "        flatImage = image\n",
    "    assert len(flatImage.shape) == 2\n",
    "    flatImage = cv2.medianBlur(flatImage.copy(), 5)\n",
    "\n",
    "    rows = np.where(np.max(flatImage, 0) > tolerance)[0]\n",
    "    if rows.size:\n",
    "        cols = np.where(np.max(flatImage, 1) > tolerance)[0]\n",
    "        image = image[cols[0]: cols[-1] + 1, rows[0]: rows[-1] + 1]\n",
    "    else:\n",
    "        image = image[:1, :1]\n",
    "\n",
    "    return image\n",
    "\n",
    "def process_image(image_path, df, idx, size, tolerance=30):    \n",
    "    img = cv2.imread(image_path)\n",
    "    \n",
    "    if img is None:\n",
    "        return \n",
    "    img_crop = crop_image(img, tolerance)\n",
    "    if img_crop.shape[0] < OUTPUT_RESOLUTION[0] or img_crop.shape[1] < OUTPUT_RESOLUTION[1]:\n",
    "        return\n",
    "    \n",
    "    img_crop = cv2.resize(img_crop, size, interpolation=cv2.INTER_LINEAR)\n",
    "    cv2.imwrite(os.path.join(DATA_BASE, OUTPUT_PATH, f'{os.path.splitext(os.path.basename(image_path))[0]}.png'), img_crop)\n",
    "    return df\n",
    "\n",
    "joblib.Parallel(n_jobs=-1, batch_size=32, verbose=10)(joblib.delayed(process_image)(row.image, labels, index, OUTPUT_RESOLUTION) for index, row in labels.iterrows())\n",
    "\n",
    "#for index, row in labels.iterrows():\n",
    "    \n",
    "print('Table size after filtering: ', len(labels))"
   ],
   "metadata": {
    "collapsed": false,
    "pycharm": {
     "name": "#%%\n",
     "is_executing": false
    }
   }
  },
  {
   "cell_type": "code",
   "execution_count": 13,
   "outputs": [
    {
     "name": "stdout",
     "text": [
      "['/data/simon/Datasets/processed_aptos2019/000c1434d8d7.png'\n '/data/simon/Datasets/processed_aptos2019/001639a390f0.png'\n '/data/simon/Datasets/processed_aptos2019/0024cdab0c1e.png' ...\n '/data/simon/Datasets/processed_aptos2019/ffcf7b45f213.png'\n '/data/simon/Datasets/processed_aptos2019/ffd97f8cd5aa.png'\n '/data/simon/Datasets/processed_aptos2019/ffec9a18a3ce.png']\nProgress:  362\n",
      "Progress:  719\n",
      "Progress:  1070\nProgress:  1411\n",
      "Progress:  1749\n",
      "Progress:  2081\nProgress:  2407\n",
      "Progress:  2727\n",
      "Progress:  3041\nProgress:  3349\n"
     ],
     "output_type": "stream"
    }
   ],
   "source": [
    "#labels.groupby('ratio')['image'].nunique()\n",
    "\n",
    "labels['image'] = labels.image.map(lambda v: os.path.join(DATA_BASE, OUTPUT_PATH, f'{os.path.splitext(os.path.basename(v))[0]}.png'))\n",
    "print(labels.image.unique())\n",
    "\n",
    "for index, row in labels.iterrows():\n",
    "    try:\n",
    "        in_file = open(row.image, 'rb')\n",
    "        in_file.close() \n",
    "        #img = cv2.imread(row.image)\n",
    "    except FileNotFoundError:\n",
    "        labels.drop(index, inplace=True)\n",
    "\n",
    "    if index % (len(labels) // 10) == (len(labels) // 10 - 1):\n",
    "        print('Progress: ', index)\n",
    "\n",
    "labels['image'] = labels.image.map(lambda v: os.path.basename(v)[:-4])\n",
    "labels.to_csv(os.path.join(DATA_BASE, 'processed_aptos2019_v2.csv'), index=False)"
   ],
   "metadata": {
    "collapsed": false,
    "pycharm": {
     "name": "#%%\n",
     "is_executing": false
    }
   }
  },
  {
   "cell_type": "code",
   "execution_count": 13,
   "outputs": [],
   "source": [
    "\n"
   ],
   "metadata": {
    "collapsed": false,
    "pycharm": {
     "name": "#%%\n",
     "is_executing": false
    }
   }
  }
 ],
 "metadata": {
  "kernelspec": {
   "name": "pycharm-eeb51a56",
   "language": "python",
   "display_name": "PyCharm (MasterThesis)"
  },
  "language_info": {
   "codemirror_mode": {
    "name": "ipython",
    "version": 2
   },
   "file_extension": ".py",
   "mimetype": "text/x-python",
   "name": "python",
   "nbconvert_exporter": "python",
   "pygments_lexer": "ipython2",
   "version": "2.7.6"
  },
  "pycharm": {
   "stem_cell": {
    "cell_type": "raw",
    "source": [],
    "metadata": {
     "collapsed": false
    }
   }
  }
 },
 "nbformat": 4,
 "nbformat_minor": 0
}