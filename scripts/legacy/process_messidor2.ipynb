{
 "cells": [
  {
   "cell_type": "code",
   "execution_count": 1,
   "metadata": {
    "collapsed": true,
    "pycharm": {
     "is_executing": false
    }
   },
   "outputs": [],
   "source": [
    "import numpy as np\n",
    "import pandas as pd\n",
    "import matplotlib.pyplot as plt\n",
    "import torch\n",
    "import cv2\n",
    "from turbojpeg import TurboJPEG\n",
    "import os\n",
    "import sys\n",
    "import joblib\n",
    "sys.path.append('/home/simon/Code/MasterThesis/project/include')\n",
    "import utils as utl"
   ]
  },
  {
   "cell_type": "code",
   "execution_count": 8,
   "outputs": [
    {
     "data": {
      "text/plain": "                     image_id  adjudicated_dr_grade  adjudicated_dme  \\\n0  20051020_43808_0100_PP.png                   0.0              0.0   \n1  20051020_43832_0100_PP.png                   1.0              0.0   \n2  20051020_43882_0100_PP.png                   1.0              0.0   \n3  20051020_43906_0100_PP.png                   2.0              1.0   \n4  20051020_44261_0100_PP.png                   0.0              0.0   \n\n   adjudicated_gradable  \n0                     1  \n1                     1  \n2                     1  \n3                     1  \n4                     1  ",
      "text/html": "<div>\n<style scoped>\n    .dataframe tbody tr th:only-of-type {\n        vertical-align: middle;\n    }\n\n    .dataframe tbody tr th {\n        vertical-align: top;\n    }\n\n    .dataframe thead th {\n        text-align: right;\n    }\n</style>\n<table border=\"1\" class=\"dataframe\">\n  <thead>\n    <tr style=\"text-align: right;\">\n      <th></th>\n      <th>image_id</th>\n      <th>adjudicated_dr_grade</th>\n      <th>adjudicated_dme</th>\n      <th>adjudicated_gradable</th>\n    </tr>\n  </thead>\n  <tbody>\n    <tr>\n      <th>0</th>\n      <td>20051020_43808_0100_PP.png</td>\n      <td>0.0</td>\n      <td>0.0</td>\n      <td>1</td>\n    </tr>\n    <tr>\n      <th>1</th>\n      <td>20051020_43832_0100_PP.png</td>\n      <td>1.0</td>\n      <td>0.0</td>\n      <td>1</td>\n    </tr>\n    <tr>\n      <th>2</th>\n      <td>20051020_43882_0100_PP.png</td>\n      <td>1.0</td>\n      <td>0.0</td>\n      <td>1</td>\n    </tr>\n    <tr>\n      <th>3</th>\n      <td>20051020_43906_0100_PP.png</td>\n      <td>2.0</td>\n      <td>1.0</td>\n      <td>1</td>\n    </tr>\n    <tr>\n      <th>4</th>\n      <td>20051020_44261_0100_PP.png</td>\n      <td>0.0</td>\n      <td>0.0</td>\n      <td>1</td>\n    </tr>\n  </tbody>\n</table>\n</div>"
     },
     "metadata": {},
     "output_type": "execute_result",
     "execution_count": 8
    }
   ],
   "source": [
    "DATA_BASE = '/data/simon/Datasets/'\n",
    "OUTPUT_PATH = 'processed_messidor2'\n",
    "OUTPUT_RESOLUTION = (700, 700)\n",
    "\n",
    "labels = pd.read_csv(os.path.join(DATA_BASE, 'processed_messidor2.csv'))\n",
    "labels.head()"
   ],
   "metadata": {
    "collapsed": false,
    "pycharm": {
     "name": "#%%\n",
     "is_executing": false
    }
   }
  },
  {
   "cell_type": "code",
   "execution_count": 3,
   "outputs": [
    {
     "name": "stdout",
     "text": [
      "[ 0.  1.  2.  3.  4. nan]\n[0 1]\n"
     ],
     "output_type": "stream"
    },
    {
     "data": {
      "text/plain": "          image_id  adjudicated_dr_grade  adjudicated_dme  \\\n1743  IM004806.jpg                   0.0              0.0   \n1744  IM004811.jpg                   1.0              0.0   \n1745  IM004812.jpg                   2.0              0.0   \n1746  IM004831.jpg                   0.0              0.0   \n1747  IM004832.jpg                   0.0              0.0   \n\n      adjudicated_gradable  severity                               image  \n1743                     1         0  /data/simon/messidor2/IM004806.jpg  \n1744                     1         0  /data/simon/messidor2/IM004811.jpg  \n1745                     1         1  /data/simon/messidor2/IM004812.jpg  \n1746                     1         0  /data/simon/messidor2/IM004831.jpg  \n1747                     1         0  /data/simon/messidor2/IM004832.jpg  ",
      "text/html": "<div>\n<style scoped>\n    .dataframe tbody tr th:only-of-type {\n        vertical-align: middle;\n    }\n\n    .dataframe tbody tr th {\n        vertical-align: top;\n    }\n\n    .dataframe thead th {\n        text-align: right;\n    }\n</style>\n<table border=\"1\" class=\"dataframe\">\n  <thead>\n    <tr style=\"text-align: right;\">\n      <th></th>\n      <th>image_id</th>\n      <th>adjudicated_dr_grade</th>\n      <th>adjudicated_dme</th>\n      <th>adjudicated_gradable</th>\n      <th>severity</th>\n      <th>image</th>\n    </tr>\n  </thead>\n  <tbody>\n    <tr>\n      <th>1743</th>\n      <td>IM004806.jpg</td>\n      <td>0.0</td>\n      <td>0.0</td>\n      <td>1</td>\n      <td>0</td>\n      <td>/data/simon/messidor2/IM004806.jpg</td>\n    </tr>\n    <tr>\n      <th>1744</th>\n      <td>IM004811.jpg</td>\n      <td>1.0</td>\n      <td>0.0</td>\n      <td>1</td>\n      <td>0</td>\n      <td>/data/simon/messidor2/IM004811.jpg</td>\n    </tr>\n    <tr>\n      <th>1745</th>\n      <td>IM004812.jpg</td>\n      <td>2.0</td>\n      <td>0.0</td>\n      <td>1</td>\n      <td>1</td>\n      <td>/data/simon/messidor2/IM004812.jpg</td>\n    </tr>\n    <tr>\n      <th>1746</th>\n      <td>IM004831.jpg</td>\n      <td>0.0</td>\n      <td>0.0</td>\n      <td>1</td>\n      <td>0</td>\n      <td>/data/simon/messidor2/IM004831.jpg</td>\n    </tr>\n    <tr>\n      <th>1747</th>\n      <td>IM004832.jpg</td>\n      <td>0.0</td>\n      <td>0.0</td>\n      <td>1</td>\n      <td>0</td>\n      <td>/data/simon/messidor2/IM004832.jpg</td>\n    </tr>\n  </tbody>\n</table>\n</div>"
     },
     "metadata": {},
     "output_type": "execute_result",
     "execution_count": 3
    }
   ],
   "source": [
    "labels['severity'] = labels.adjudicated_dr_grade.map(lambda v: 0 if v <= 1 else 1)\n",
    "labels['image'] = labels.image_id.map(lambda v: os.path.join(DATA_BASE, 'messidor2/', v))\n",
    "\n",
    "print(labels.adjudicated_dr_grade.unique())\n",
    "print(labels.severity.unique())\n",
    "\n",
    "labels.tail()"
   ],
   "metadata": {
    "collapsed": false,
    "pycharm": {
     "name": "#%%\n",
     "is_executing": false
    }
   }
  },
  {
   "cell_type": "markdown",
   "source": [
    "## Adjust image size and type\n",
    "- crop black borders\n",
    "- resize to 300x300\n",
    "- change to png"
   ],
   "metadata": {
    "collapsed": false,
    "pycharm": {
     "name": "#%% md\n",
     "is_executing": false
    }
   }
  },
  {
   "cell_type": "code",
   "execution_count": 4,
   "outputs": [
    {
     "name": "stdout",
     "text": [
      "Table size before filtering:  1748\n",
      "Table size after filtering:  1748\n"
     ],
     "output_type": "stream"
    },
    {
     "name": "stderr",
     "text": [
      "[Parallel(n_jobs=-1)]: Using backend LokyBackend with 12 concurrent workers.\n",
      "[Parallel(n_jobs=-1)]: Done   2 tasks      | elapsed:    2.5s\n",
      "[Parallel(n_jobs=-1)]: Done  12 tasks      | elapsed:    2.7s\n",
      "[Parallel(n_jobs=-1)]: Done  56 tasks      | elapsed:   17.3s\n",
      "/home/simon/.local/lib/python3.6/site-packages/joblib/externals/loky/process_executor.py:706: UserWarning: A worker stopped while some jobs were given to the executor. This can be caused by a too short worker timeout or by a memory leak.\n  \"timeout or by a memory leak.\", UserWarning\n",
      "[Parallel(n_jobs=-1)]: Done 280 tasks      | elapsed:   29.6s\n",
      "[Parallel(n_jobs=-1)]: Done 568 tasks      | elapsed:   42.9s\n",
      "[Parallel(n_jobs=-1)]: Done 856 tasks      | elapsed:   51.7s\n",
      "[Parallel(n_jobs=-1)]: Done 1208 tasks      | elapsed:  1.1min\n",
      "[Parallel(n_jobs=-1)]: Done 1250 tasks      | elapsed:  1.1min\n",
      "[Parallel(n_jobs=-1)]: Done 1263 tasks      | elapsed:  1.1min\n",
      "[Parallel(n_jobs=-1)]: Done 1307 tasks      | elapsed:  1.1min\n",
      "[Parallel(n_jobs=-1)]: Done 1322 tasks      | elapsed:  1.2min\n",
      "[Parallel(n_jobs=-1)]: Done 1368 tasks      | elapsed:  1.2min\n",
      "[Parallel(n_jobs=-1)]: Done 1540 tasks      | elapsed:  1.2min\n",
      "[Parallel(n_jobs=-1)]: Done 1650 tasks      | elapsed:  1.2min\n",
      "[Parallel(n_jobs=-1)]: Done 1669 tasks      | elapsed:  1.2min\n",
      "[Parallel(n_jobs=-1)]: Done 1688 tasks      | elapsed:  1.2min\n",
      "[Parallel(n_jobs=-1)]: Done 1709 tasks      | elapsed:  1.2min\n",
      "[Parallel(n_jobs=-1)]: Done 1730 tasks      | elapsed:  1.2min\n",
      "[Parallel(n_jobs=-1)]: Done 1748 out of 1748 | elapsed:  1.2min finished\n"
     ],
     "output_type": "stream"
    }
   ],
   "source": [
    "print('Table size before filtering: ', len(labels))\n",
    "\n",
    "def crop_image(image, tolerance=20):\n",
    "    if len(image.shape) == 3:\n",
    "        flatImage = np.max(image, 2)\n",
    "    else:\n",
    "        flatImage = image\n",
    "    assert len(flatImage.shape) == 2\n",
    "    flatImage = cv2.medianBlur(flatImage.copy(), 5)\n",
    "\n",
    "    rows = np.where(np.max(flatImage, 0) > tolerance)[0]\n",
    "    if rows.size:\n",
    "        cols = np.where(np.max(flatImage, 1) > tolerance)[0]\n",
    "        image = image[cols[0]: cols[-1] + 1, rows[0]: rows[-1] + 1]\n",
    "    else:\n",
    "        image = image[:1, :1]\n",
    "\n",
    "    return image\n",
    "\n",
    "def process_image(image_path, df, idx, size, tolerance=30):    \n",
    "    print(image_path)\n",
    "    if 'jpg' in image_path:\n",
    "        image_path = image_path[:-3] + 'JPG'\n",
    "    \n",
    "    img = cv2.imread(image_path)\n",
    "    \n",
    "    if img is None:\n",
    "        return \n",
    "    if df.adjudicated_gradable[idx] == 0:\n",
    "        return\n",
    "    img_crop = crop_image(img, tolerance)\n",
    "    if img_crop.shape[0] < OUTPUT_RESOLUTION[0] or img_crop.shape[1] < OUTPUT_RESOLUTION[1]:\n",
    "        return\n",
    "    \n",
    "    img_crop = cv2.resize(img_crop, size, interpolation=cv2.INTER_LINEAR)\n",
    "    cv2.imwrite(os.path.join(DATA_BASE, OUTPUT_PATH, f'{os.path.splitext(os.path.basename(image_path))[0]}.png'), img_crop)\n",
    "    return df\n",
    "\n",
    "joblib.Parallel(n_jobs=-1, batch_size=32, verbose=10)(joblib.delayed(process_image)(row.image, labels, index, OUTPUT_RESOLUTION) for index, row in labels.iterrows())\n",
    "\n",
    "#for index, row in labels.iterrows():\n",
    "    \n",
    "print('Table size after filtering: ', len(labels))\n"
   ],
   "metadata": {
    "collapsed": false,
    "pycharm": {
     "name": "#%%\n",
     "is_executing": false
    }
   }
  },
  {
   "cell_type": "markdown",
   "source": [
    "## Remove unsuable images from CSV\n",
    "- check if processed file exists\n",
    "- remove if necassary from dataframe"
   ],
   "metadata": {
    "collapsed": false
   }
  },
  {
   "cell_type": "code",
   "execution_count": 5,
   "outputs": [
    {
     "name": "stdout",
     "text": [
      "['/data/simon/processed_messidor2/20051020_43808_0100_PP.png'\n '/data/simon/processed_messidor2/20051020_43832_0100_PP.png'\n '/data/simon/processed_messidor2/20051020_43882_0100_PP.png' ...\n '/data/simon/processed_messidor2/IM004812.png'\n '/data/simon/processed_messidor2/IM004831.png'\n '/data/simon/processed_messidor2/IM004832.png']\nProgress:  173\nProgress:  347\nProgress:  521\nProgress:  695\nProgress:  869\n",
      "Progress:  1043\n",
      "Progress:  1217\nProgress:  1391\nProgress:  1565\nProgress:  1739\n"
     ],
     "output_type": "stream"
    }
   ],
   "source": [
    "labels['image'] = labels.image.map(lambda v: os.path.join(DATA_BASE, OUTPUT_PATH, f'{os.path.splitext(os.path.basename(v))[0]}.png'))\n",
    "print(labels.image.unique())\n",
    "\n",
    "for index, row in labels.iterrows():\n",
    "    try:\n",
    "        in_file = open(row.image, 'rb')\n",
    "        in_file.close() \n",
    "        #img = cv2.imread(row.image)\n",
    "    except FileNotFoundError:\n",
    "        labels.drop(index, inplace=True)\n",
    "\n",
    "    if index % (len(labels) // 10) == (len(labels) // 10 - 1):\n",
    "        print('Progress: ', index)\n",
    "\n",
    "labels['image'] = labels.image.map(lambda v: os.path.basename(v)[:-4])\n",
    "labels.to_csv(os.path.join(DATA_BASE, 'processed_messidor2_v2.csv'), index=False)"
   ],
   "metadata": {
    "collapsed": false,
    "pycharm": {
     "name": "#%%\n",
     "is_executing": false
    }
   }
  },
  {
   "cell_type": "markdown",
   "source": [
    "## Join together messidor2 and eyepacs1 dataframes\n",
    "- join dataframes\n",
    "- create unified image folder\n",
    "- ignore unnecassary columns"
   ],
   "metadata": {
    "collapsed": false,
    "pycharm": {
     "name": "#%% md\n",
     "is_executing": false
    }
   }
  },
  {
   "cell_type": "code",
   "execution_count": 9,
   "outputs": [],
   "source": [
    "df_messidor = pd.read_csv(os.path.join(DATA_BASE, 'processed_messidor2_v2.csv'))\n",
    "df_eyepacs = pd.read_csv(os.path.join(DATA_BASE, 'processed_eyepacs1_v2.csv'))\n",
    "df_aptos = pd.read_csv(os.path.join(DATA_BASE, 'processed_aptos2019_v2.csv'))\n",
    "\n",
    "df_messidor = df_messidor[['image', 'severity']]\n",
    "df_eyepacs = df_eyepacs[['image', 'severity']]\n",
    "df_aptos = df_aptos[['image', 'severity']]\n",
    "\n",
    "joined_df = pd.concat([df_messidor, df_eyepacs, df_aptos], axis=0, ignore_index=True)\n",
    "joined_df.to_csv(os.path.join(DATA_BASE, 'combined_retina_dataset.csv'), index=False)"
   ],
   "metadata": {
    "collapsed": false,
    "pycharm": {
     "name": "#%%\n",
     "is_executing": false
    }
   }
  },
  {
   "cell_type": "code",
   "execution_count": 6,
   "outputs": [],
   "source": [
    "\n"
   ],
   "metadata": {
    "collapsed": false,
    "pycharm": {
     "name": "#%%\n",
     "is_executing": false
    }
   }
  }
 ],
 "metadata": {
  "kernelspec": {
   "name": "pycharm-eeb51a56",
   "language": "python",
   "display_name": "PyCharm (MasterThesis)"
  },
  "language_info": {
   "codemirror_mode": {
    "name": "ipython",
    "version": 2
   },
   "file_extension": ".py",
   "mimetype": "text/x-python",
   "name": "python",
   "nbconvert_exporter": "python",
   "pygments_lexer": "ipython2",
   "version": "2.7.6"
  },
  "pycharm": {
   "stem_cell": {
    "cell_type": "raw",
    "source": [],
    "metadata": {
     "collapsed": false
    }
   }
  }
 },
 "nbformat": 4,
 "nbformat_minor": 0
}